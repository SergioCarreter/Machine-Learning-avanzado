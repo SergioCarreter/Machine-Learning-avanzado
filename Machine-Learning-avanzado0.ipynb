{
 "cells": [
  {
   "cell_type": "markdown",
   "id": "bb7ca105",
   "metadata": {},
   "source": [
    "---------------------------------\n",
    "\n",
    "## Nivel1. Ejercicio1\n",
    "\n",
    "Realiza un pipeline y gridsearch de un RandomForest con dataset a elegir.\n",
    "\n",
    "----------------------------"
   ]
  },
  {
   "cell_type": "code",
   "execution_count": 1,
   "id": "ff5197f7",
   "metadata": {},
   "outputs": [],
   "source": [
    "import pandas as pd\n",
    "import numpy as np\n",
    "\n",
    "import matplotlib.pyplot as plt\n",
    "import seaborn as sns\n",
    "\n",
    "from sklearn.model_selection import train_test_split\n",
    "from sklearn import preprocessing\n",
    "from sklearn.preprocessing import StandardScaler\n",
    "\n",
    "from sklearn.pipeline import Pipeline\n",
    "from sklearn.model_selection import GridSearchCV\n",
    "\n",
    "from sklearn.ensemble import RandomForestRegressor\n",
    "\n",
    "from sklearn.metrics import mean_squared_error"
   ]
  },
  {
   "cell_type": "markdown",
   "id": "136e82f3",
   "metadata": {},
   "source": [
    "Elegimos como dataset el de la calidad del vino de kaggle incluido en:\n",
    "\n",
    "https://www.kaggle.com/uciml/red-wine-quality-cortez-et-al-2009"
   ]
  },
  {
   "cell_type": "code",
   "execution_count": 2,
   "id": "e253375b",
   "metadata": {},
   "outputs": [],
   "source": [
    "data_path_file='winequality-red.csv'\n",
    "df =pd.read_csv(data_path_file, sep=';')"
   ]
  },
  {
   "cell_type": "code",
   "execution_count": 3,
   "id": "f395d3bc",
   "metadata": {},
   "outputs": [
    {
     "data": {
      "text/html": [
       "<div>\n",
       "<style scoped>\n",
       "    .dataframe tbody tr th:only-of-type {\n",
       "        vertical-align: middle;\n",
       "    }\n",
       "\n",
       "    .dataframe tbody tr th {\n",
       "        vertical-align: top;\n",
       "    }\n",
       "\n",
       "    .dataframe thead th {\n",
       "        text-align: right;\n",
       "    }\n",
       "</style>\n",
       "<table border=\"1\" class=\"dataframe\">\n",
       "  <thead>\n",
       "    <tr style=\"text-align: right;\">\n",
       "      <th></th>\n",
       "      <th>fixed acidity</th>\n",
       "      <th>volatile acidity</th>\n",
       "      <th>citric acid</th>\n",
       "      <th>residual sugar</th>\n",
       "      <th>chlorides</th>\n",
       "      <th>free sulfur dioxide</th>\n",
       "      <th>total sulfur dioxide</th>\n",
       "      <th>density</th>\n",
       "      <th>pH</th>\n",
       "      <th>sulphates</th>\n",
       "      <th>alcohol</th>\n",
       "      <th>quality</th>\n",
       "    </tr>\n",
       "  </thead>\n",
       "  <tbody>\n",
       "    <tr>\n",
       "      <th>111</th>\n",
       "      <td>8.4</td>\n",
       "      <td>0.620</td>\n",
       "      <td>0.09</td>\n",
       "      <td>2.2</td>\n",
       "      <td>0.084</td>\n",
       "      <td>11.0</td>\n",
       "      <td>108.0</td>\n",
       "      <td>0.99640</td>\n",
       "      <td>3.15</td>\n",
       "      <td>0.66</td>\n",
       "      <td>9.8</td>\n",
       "      <td>5</td>\n",
       "    </tr>\n",
       "    <tr>\n",
       "      <th>974</th>\n",
       "      <td>8.8</td>\n",
       "      <td>0.330</td>\n",
       "      <td>0.41</td>\n",
       "      <td>5.9</td>\n",
       "      <td>0.073</td>\n",
       "      <td>7.0</td>\n",
       "      <td>13.0</td>\n",
       "      <td>0.99658</td>\n",
       "      <td>3.30</td>\n",
       "      <td>0.62</td>\n",
       "      <td>12.1</td>\n",
       "      <td>7</td>\n",
       "    </tr>\n",
       "    <tr>\n",
       "      <th>1552</th>\n",
       "      <td>6.3</td>\n",
       "      <td>0.680</td>\n",
       "      <td>0.01</td>\n",
       "      <td>3.7</td>\n",
       "      <td>0.103</td>\n",
       "      <td>32.0</td>\n",
       "      <td>54.0</td>\n",
       "      <td>0.99586</td>\n",
       "      <td>3.51</td>\n",
       "      <td>0.66</td>\n",
       "      <td>11.3</td>\n",
       "      <td>6</td>\n",
       "    </tr>\n",
       "    <tr>\n",
       "      <th>1041</th>\n",
       "      <td>6.9</td>\n",
       "      <td>0.490</td>\n",
       "      <td>0.19</td>\n",
       "      <td>1.7</td>\n",
       "      <td>0.079</td>\n",
       "      <td>13.0</td>\n",
       "      <td>26.0</td>\n",
       "      <td>0.99547</td>\n",
       "      <td>3.38</td>\n",
       "      <td>0.64</td>\n",
       "      <td>9.8</td>\n",
       "      <td>6</td>\n",
       "    </tr>\n",
       "    <tr>\n",
       "      <th>647</th>\n",
       "      <td>8.3</td>\n",
       "      <td>0.845</td>\n",
       "      <td>0.01</td>\n",
       "      <td>2.2</td>\n",
       "      <td>0.070</td>\n",
       "      <td>5.0</td>\n",
       "      <td>14.0</td>\n",
       "      <td>0.99670</td>\n",
       "      <td>3.32</td>\n",
       "      <td>0.58</td>\n",
       "      <td>11.0</td>\n",
       "      <td>4</td>\n",
       "    </tr>\n",
       "  </tbody>\n",
       "</table>\n",
       "</div>"
      ],
      "text/plain": [
       "      fixed acidity  volatile acidity  citric acid  residual sugar  chlorides  \\\n",
       "111             8.4             0.620         0.09             2.2      0.084   \n",
       "974             8.8             0.330         0.41             5.9      0.073   \n",
       "1552            6.3             0.680         0.01             3.7      0.103   \n",
       "1041            6.9             0.490         0.19             1.7      0.079   \n",
       "647             8.3             0.845         0.01             2.2      0.070   \n",
       "\n",
       "      free sulfur dioxide  total sulfur dioxide  density    pH  sulphates  \\\n",
       "111                  11.0                 108.0  0.99640  3.15       0.66   \n",
       "974                   7.0                  13.0  0.99658  3.30       0.62   \n",
       "1552                 32.0                  54.0  0.99586  3.51       0.66   \n",
       "1041                 13.0                  26.0  0.99547  3.38       0.64   \n",
       "647                   5.0                  14.0  0.99670  3.32       0.58   \n",
       "\n",
       "      alcohol  quality  \n",
       "111       9.8        5  \n",
       "974      12.1        7  \n",
       "1552     11.3        6  \n",
       "1041      9.8        6  \n",
       "647      11.0        4  "
      ]
     },
     "execution_count": 3,
     "metadata": {},
     "output_type": "execute_result"
    }
   ],
   "source": [
    "df.sample(5)"
   ]
  },
  {
   "cell_type": "code",
   "execution_count": 4,
   "id": "ac9b935f",
   "metadata": {},
   "outputs": [
    {
     "data": {
      "text/plain": [
       "(1599, 12)"
      ]
     },
     "execution_count": 4,
     "metadata": {},
     "output_type": "execute_result"
    }
   ],
   "source": [
    "df.shape"
   ]
  },
  {
   "cell_type": "code",
   "execution_count": 5,
   "id": "f71a0169",
   "metadata": {},
   "outputs": [
    {
     "name": "stdout",
     "output_type": "stream",
     "text": [
      "<class 'pandas.core.frame.DataFrame'>\n",
      "RangeIndex: 1599 entries, 0 to 1598\n",
      "Data columns (total 12 columns):\n",
      " #   Column                Non-Null Count  Dtype  \n",
      "---  ------                --------------  -----  \n",
      " 0   fixed acidity         1599 non-null   float64\n",
      " 1   volatile acidity      1599 non-null   float64\n",
      " 2   citric acid           1599 non-null   float64\n",
      " 3   residual sugar        1599 non-null   float64\n",
      " 4   chlorides             1599 non-null   float64\n",
      " 5   free sulfur dioxide   1599 non-null   float64\n",
      " 6   total sulfur dioxide  1599 non-null   float64\n",
      " 7   density               1599 non-null   float64\n",
      " 8   pH                    1599 non-null   float64\n",
      " 9   sulphates             1599 non-null   float64\n",
      " 10  alcohol               1599 non-null   float64\n",
      " 11  quality               1599 non-null   int64  \n",
      "dtypes: float64(11), int64(1)\n",
      "memory usage: 150.0 KB\n"
     ]
    }
   ],
   "source": [
    "df.info()"
   ]
  },
  {
   "cell_type": "code",
   "execution_count": 6,
   "id": "07bb5d0b",
   "metadata": {},
   "outputs": [
    {
     "data": {
      "text/html": [
       "<div>\n",
       "<style scoped>\n",
       "    .dataframe tbody tr th:only-of-type {\n",
       "        vertical-align: middle;\n",
       "    }\n",
       "\n",
       "    .dataframe tbody tr th {\n",
       "        vertical-align: top;\n",
       "    }\n",
       "\n",
       "    .dataframe thead th {\n",
       "        text-align: right;\n",
       "    }\n",
       "</style>\n",
       "<table border=\"1\" class=\"dataframe\">\n",
       "  <thead>\n",
       "    <tr style=\"text-align: right;\">\n",
       "      <th></th>\n",
       "      <th>fixed acidity</th>\n",
       "      <th>volatile acidity</th>\n",
       "      <th>citric acid</th>\n",
       "      <th>residual sugar</th>\n",
       "      <th>chlorides</th>\n",
       "      <th>free sulfur dioxide</th>\n",
       "      <th>total sulfur dioxide</th>\n",
       "      <th>density</th>\n",
       "      <th>pH</th>\n",
       "      <th>sulphates</th>\n",
       "      <th>alcohol</th>\n",
       "      <th>quality</th>\n",
       "    </tr>\n",
       "  </thead>\n",
       "  <tbody>\n",
       "    <tr>\n",
       "      <th>count</th>\n",
       "      <td>1599.000000</td>\n",
       "      <td>1599.000000</td>\n",
       "      <td>1599.000000</td>\n",
       "      <td>1599.000000</td>\n",
       "      <td>1599.000000</td>\n",
       "      <td>1599.000000</td>\n",
       "      <td>1599.000000</td>\n",
       "      <td>1599.000000</td>\n",
       "      <td>1599.000000</td>\n",
       "      <td>1599.000000</td>\n",
       "      <td>1599.000000</td>\n",
       "      <td>1599.000000</td>\n",
       "    </tr>\n",
       "    <tr>\n",
       "      <th>mean</th>\n",
       "      <td>8.319637</td>\n",
       "      <td>0.527821</td>\n",
       "      <td>0.270976</td>\n",
       "      <td>2.538806</td>\n",
       "      <td>0.087467</td>\n",
       "      <td>15.874922</td>\n",
       "      <td>46.467792</td>\n",
       "      <td>0.996747</td>\n",
       "      <td>3.311113</td>\n",
       "      <td>0.658149</td>\n",
       "      <td>10.422983</td>\n",
       "      <td>5.636023</td>\n",
       "    </tr>\n",
       "    <tr>\n",
       "      <th>std</th>\n",
       "      <td>1.741096</td>\n",
       "      <td>0.179060</td>\n",
       "      <td>0.194801</td>\n",
       "      <td>1.409928</td>\n",
       "      <td>0.047065</td>\n",
       "      <td>10.460157</td>\n",
       "      <td>32.895324</td>\n",
       "      <td>0.001887</td>\n",
       "      <td>0.154386</td>\n",
       "      <td>0.169507</td>\n",
       "      <td>1.065668</td>\n",
       "      <td>0.807569</td>\n",
       "    </tr>\n",
       "    <tr>\n",
       "      <th>min</th>\n",
       "      <td>4.600000</td>\n",
       "      <td>0.120000</td>\n",
       "      <td>0.000000</td>\n",
       "      <td>0.900000</td>\n",
       "      <td>0.012000</td>\n",
       "      <td>1.000000</td>\n",
       "      <td>6.000000</td>\n",
       "      <td>0.990070</td>\n",
       "      <td>2.740000</td>\n",
       "      <td>0.330000</td>\n",
       "      <td>8.400000</td>\n",
       "      <td>3.000000</td>\n",
       "    </tr>\n",
       "    <tr>\n",
       "      <th>25%</th>\n",
       "      <td>7.100000</td>\n",
       "      <td>0.390000</td>\n",
       "      <td>0.090000</td>\n",
       "      <td>1.900000</td>\n",
       "      <td>0.070000</td>\n",
       "      <td>7.000000</td>\n",
       "      <td>22.000000</td>\n",
       "      <td>0.995600</td>\n",
       "      <td>3.210000</td>\n",
       "      <td>0.550000</td>\n",
       "      <td>9.500000</td>\n",
       "      <td>5.000000</td>\n",
       "    </tr>\n",
       "    <tr>\n",
       "      <th>50%</th>\n",
       "      <td>7.900000</td>\n",
       "      <td>0.520000</td>\n",
       "      <td>0.260000</td>\n",
       "      <td>2.200000</td>\n",
       "      <td>0.079000</td>\n",
       "      <td>14.000000</td>\n",
       "      <td>38.000000</td>\n",
       "      <td>0.996750</td>\n",
       "      <td>3.310000</td>\n",
       "      <td>0.620000</td>\n",
       "      <td>10.200000</td>\n",
       "      <td>6.000000</td>\n",
       "    </tr>\n",
       "    <tr>\n",
       "      <th>75%</th>\n",
       "      <td>9.200000</td>\n",
       "      <td>0.640000</td>\n",
       "      <td>0.420000</td>\n",
       "      <td>2.600000</td>\n",
       "      <td>0.090000</td>\n",
       "      <td>21.000000</td>\n",
       "      <td>62.000000</td>\n",
       "      <td>0.997835</td>\n",
       "      <td>3.400000</td>\n",
       "      <td>0.730000</td>\n",
       "      <td>11.100000</td>\n",
       "      <td>6.000000</td>\n",
       "    </tr>\n",
       "    <tr>\n",
       "      <th>max</th>\n",
       "      <td>15.900000</td>\n",
       "      <td>1.580000</td>\n",
       "      <td>1.000000</td>\n",
       "      <td>15.500000</td>\n",
       "      <td>0.611000</td>\n",
       "      <td>72.000000</td>\n",
       "      <td>289.000000</td>\n",
       "      <td>1.003690</td>\n",
       "      <td>4.010000</td>\n",
       "      <td>2.000000</td>\n",
       "      <td>14.900000</td>\n",
       "      <td>8.000000</td>\n",
       "    </tr>\n",
       "  </tbody>\n",
       "</table>\n",
       "</div>"
      ],
      "text/plain": [
       "       fixed acidity  volatile acidity  citric acid  residual sugar  \\\n",
       "count    1599.000000       1599.000000  1599.000000     1599.000000   \n",
       "mean        8.319637          0.527821     0.270976        2.538806   \n",
       "std         1.741096          0.179060     0.194801        1.409928   \n",
       "min         4.600000          0.120000     0.000000        0.900000   \n",
       "25%         7.100000          0.390000     0.090000        1.900000   \n",
       "50%         7.900000          0.520000     0.260000        2.200000   \n",
       "75%         9.200000          0.640000     0.420000        2.600000   \n",
       "max        15.900000          1.580000     1.000000       15.500000   \n",
       "\n",
       "         chlorides  free sulfur dioxide  total sulfur dioxide      density  \\\n",
       "count  1599.000000          1599.000000           1599.000000  1599.000000   \n",
       "mean      0.087467            15.874922             46.467792     0.996747   \n",
       "std       0.047065            10.460157             32.895324     0.001887   \n",
       "min       0.012000             1.000000              6.000000     0.990070   \n",
       "25%       0.070000             7.000000             22.000000     0.995600   \n",
       "50%       0.079000            14.000000             38.000000     0.996750   \n",
       "75%       0.090000            21.000000             62.000000     0.997835   \n",
       "max       0.611000            72.000000            289.000000     1.003690   \n",
       "\n",
       "                pH    sulphates      alcohol      quality  \n",
       "count  1599.000000  1599.000000  1599.000000  1599.000000  \n",
       "mean      3.311113     0.658149    10.422983     5.636023  \n",
       "std       0.154386     0.169507     1.065668     0.807569  \n",
       "min       2.740000     0.330000     8.400000     3.000000  \n",
       "25%       3.210000     0.550000     9.500000     5.000000  \n",
       "50%       3.310000     0.620000    10.200000     6.000000  \n",
       "75%       3.400000     0.730000    11.100000     6.000000  \n",
       "max       4.010000     2.000000    14.900000     8.000000  "
      ]
     },
     "execution_count": 6,
     "metadata": {},
     "output_type": "execute_result"
    }
   ],
   "source": [
    "df.describe()"
   ]
  },
  {
   "cell_type": "code",
   "execution_count": 7,
   "id": "597a705b",
   "metadata": {},
   "outputs": [
    {
     "data": {
      "text/plain": [
       "Index(['fixed acidity', 'volatile acidity', 'citric acid', 'residual sugar',\n",
       "       'chlorides', 'free sulfur dioxide', 'total sulfur dioxide', 'density',\n",
       "       'pH', 'sulphates', 'alcohol', 'quality'],\n",
       "      dtype='object')"
      ]
     },
     "execution_count": 7,
     "metadata": {},
     "output_type": "execute_result"
    }
   ],
   "source": [
    "df.columns"
   ]
  },
  {
   "cell_type": "markdown",
   "id": "59a5792f",
   "metadata": {},
   "source": [
    "Un Pipeline consiste en una lista de transforms y un estimator final. Todos ellos se aplican de manera secuencial.\n",
    "\n",
    "Los transforms implementan metodos fit y transform. El estimator solo implementa fit. "
   ]
  },
  {
   "cell_type": "code",
   "execution_count": 8,
   "id": "83e6bc42",
   "metadata": {},
   "outputs": [],
   "source": [
    "y = df['quality']\n",
    "X = df.drop(columns='quality')"
   ]
  },
  {
   "cell_type": "code",
   "execution_count": 9,
   "id": "c5dd0304",
   "metadata": {},
   "outputs": [
    {
     "data": {
      "text/html": [
       "<div>\n",
       "<style scoped>\n",
       "    .dataframe tbody tr th:only-of-type {\n",
       "        vertical-align: middle;\n",
       "    }\n",
       "\n",
       "    .dataframe tbody tr th {\n",
       "        vertical-align: top;\n",
       "    }\n",
       "\n",
       "    .dataframe thead th {\n",
       "        text-align: right;\n",
       "    }\n",
       "</style>\n",
       "<table border=\"1\" class=\"dataframe\">\n",
       "  <thead>\n",
       "    <tr style=\"text-align: right;\">\n",
       "      <th></th>\n",
       "      <th>fixed acidity</th>\n",
       "      <th>volatile acidity</th>\n",
       "      <th>citric acid</th>\n",
       "      <th>residual sugar</th>\n",
       "      <th>chlorides</th>\n",
       "      <th>free sulfur dioxide</th>\n",
       "      <th>total sulfur dioxide</th>\n",
       "      <th>density</th>\n",
       "      <th>pH</th>\n",
       "      <th>sulphates</th>\n",
       "      <th>alcohol</th>\n",
       "    </tr>\n",
       "  </thead>\n",
       "  <tbody>\n",
       "    <tr>\n",
       "      <th>1112</th>\n",
       "      <td>7.9</td>\n",
       "      <td>0.33</td>\n",
       "      <td>0.41</td>\n",
       "      <td>1.5</td>\n",
       "      <td>0.056</td>\n",
       "      <td>6.0</td>\n",
       "      <td>35.0</td>\n",
       "      <td>0.99396</td>\n",
       "      <td>3.29</td>\n",
       "      <td>0.71</td>\n",
       "      <td>11.0</td>\n",
       "    </tr>\n",
       "    <tr>\n",
       "      <th>689</th>\n",
       "      <td>8.1</td>\n",
       "      <td>0.38</td>\n",
       "      <td>0.48</td>\n",
       "      <td>1.8</td>\n",
       "      <td>0.157</td>\n",
       "      <td>5.0</td>\n",
       "      <td>17.0</td>\n",
       "      <td>0.99760</td>\n",
       "      <td>3.30</td>\n",
       "      <td>1.05</td>\n",
       "      <td>9.4</td>\n",
       "    </tr>\n",
       "    <tr>\n",
       "      <th>1249</th>\n",
       "      <td>7.1</td>\n",
       "      <td>0.60</td>\n",
       "      <td>0.01</td>\n",
       "      <td>2.3</td>\n",
       "      <td>0.079</td>\n",
       "      <td>24.0</td>\n",
       "      <td>37.0</td>\n",
       "      <td>0.99514</td>\n",
       "      <td>3.40</td>\n",
       "      <td>0.61</td>\n",
       "      <td>10.9</td>\n",
       "    </tr>\n",
       "    <tr>\n",
       "      <th>1105</th>\n",
       "      <td>6.3</td>\n",
       "      <td>0.57</td>\n",
       "      <td>0.28</td>\n",
       "      <td>2.1</td>\n",
       "      <td>0.048</td>\n",
       "      <td>13.0</td>\n",
       "      <td>49.0</td>\n",
       "      <td>0.99374</td>\n",
       "      <td>3.41</td>\n",
       "      <td>0.60</td>\n",
       "      <td>12.8</td>\n",
       "    </tr>\n",
       "    <tr>\n",
       "      <th>26</th>\n",
       "      <td>7.6</td>\n",
       "      <td>0.41</td>\n",
       "      <td>0.24</td>\n",
       "      <td>1.8</td>\n",
       "      <td>0.080</td>\n",
       "      <td>4.0</td>\n",
       "      <td>11.0</td>\n",
       "      <td>0.99620</td>\n",
       "      <td>3.28</td>\n",
       "      <td>0.59</td>\n",
       "      <td>9.5</td>\n",
       "    </tr>\n",
       "  </tbody>\n",
       "</table>\n",
       "</div>"
      ],
      "text/plain": [
       "      fixed acidity  volatile acidity  citric acid  residual sugar  chlorides  \\\n",
       "1112            7.9              0.33         0.41             1.5      0.056   \n",
       "689             8.1              0.38         0.48             1.8      0.157   \n",
       "1249            7.1              0.60         0.01             2.3      0.079   \n",
       "1105            6.3              0.57         0.28             2.1      0.048   \n",
       "26              7.6              0.41         0.24             1.8      0.080   \n",
       "\n",
       "      free sulfur dioxide  total sulfur dioxide  density    pH  sulphates  \\\n",
       "1112                  6.0                  35.0  0.99396  3.29       0.71   \n",
       "689                   5.0                  17.0  0.99760  3.30       1.05   \n",
       "1249                 24.0                  37.0  0.99514  3.40       0.61   \n",
       "1105                 13.0                  49.0  0.99374  3.41       0.60   \n",
       "26                    4.0                  11.0  0.99620  3.28       0.59   \n",
       "\n",
       "      alcohol  \n",
       "1112     11.0  \n",
       "689       9.4  \n",
       "1249     10.9  \n",
       "1105     12.8  \n",
       "26        9.5  "
      ]
     },
     "execution_count": 9,
     "metadata": {},
     "output_type": "execute_result"
    }
   ],
   "source": [
    "X.sample(5)"
   ]
  },
  {
   "cell_type": "code",
   "execution_count": 10,
   "id": "612061e4",
   "metadata": {},
   "outputs": [
    {
     "data": {
      "text/plain": [
       "498     8\n",
       "1137    6\n",
       "1440    7\n",
       "1434    6\n",
       "1176    4\n",
       "Name: quality, dtype: int64"
      ]
     },
     "execution_count": 10,
     "metadata": {},
     "output_type": "execute_result"
    }
   ],
   "source": [
    "y.sample(5)"
   ]
  },
  {
   "cell_type": "code",
   "execution_count": 11,
   "id": "71f89388",
   "metadata": {},
   "outputs": [],
   "source": [
    "steps = [('scaler', StandardScaler()), ('Forest', RandomForestRegressor())]"
   ]
  },
  {
   "cell_type": "code",
   "execution_count": 12,
   "id": "29b2114a",
   "metadata": {},
   "outputs": [],
   "source": [
    "# define the pipeline object.\n",
    "\n",
    "pipe = Pipeline(steps) "
   ]
  },
  {
   "cell_type": "code",
   "execution_count": 13,
   "id": "b88a70fd",
   "metadata": {},
   "outputs": [],
   "source": [
    "parameters = {'Forest__n_estimators':[5,10,15,20,25,30,35,40,45,50,55,60,65,70,75,80],\n",
    "              'Forest__criterion':['squared_error'] }"
   ]
  },
  {
   "cell_type": "code",
   "execution_count": 14,
   "id": "65fba76d",
   "metadata": {},
   "outputs": [],
   "source": [
    "grid = GridSearchCV(pipe, param_grid= parameters, cv=5, n_jobs=4, verbose=4)                                 "
   ]
  },
  {
   "cell_type": "code",
   "execution_count": 15,
   "id": "0695012d",
   "metadata": {},
   "outputs": [
    {
     "name": "stdout",
     "output_type": "stream",
     "text": [
      "Fitting 5 folds for each of 16 candidates, totalling 80 fits\n"
     ]
    }
   ],
   "source": [
    "grid_result = grid.fit(X, y)"
   ]
  },
  {
   "cell_type": "code",
   "execution_count": 16,
   "id": "3af298ba",
   "metadata": {
    "scrolled": false
   },
   "outputs": [
    {
     "data": {
      "text/plain": [
       "{'mean_fit_time': array([0.02809691, 0.05462446, 0.08095336, 0.10813756, 0.11782489,\n",
       "        0.16336236, 0.18269444, 0.23765283, 0.2483942 , 0.27476525,\n",
       "        0.27378836, 0.28533888, 0.31786747, 0.38107467, 0.42066698,\n",
       "        0.60529399]),\n",
       " 'std_fit_time': array([0.00327037, 0.00146673, 0.00455859, 0.00466211, 0.00397158,\n",
       "        0.00402552, 0.00572186, 0.0116231 , 0.02277839, 0.02093184,\n",
       "        0.00558097, 0.00282534, 0.02442116, 0.01478121, 0.02511436,\n",
       "        0.0621073 ]),\n",
       " 'mean_score_time': array([0.00201569, 0.00399747, 0.00399776, 0.00359826, 0.00406485,\n",
       "        0.0059968 , 0.00460839, 0.0063025 , 0.00821595, 0.005654  ,\n",
       "        0.00684023, 0.0060204 , 0.01003332, 0.00803342, 0.01141567,\n",
       "        0.01531811]),\n",
       " 'std_score_time': array([0.00311682, 0.00154828, 0.00089426, 0.00048992, 0.00411948,\n",
       "        0.00167232, 0.00265796, 0.00040261, 0.00162193, 0.00233892,\n",
       "        0.00176342, 0.00420691, 0.00507383, 0.00311103, 0.00216978,\n",
       "        0.00098609]),\n",
       " 'param_Forest__criterion': masked_array(data=['squared_error', 'squared_error', 'squared_error',\n",
       "                    'squared_error', 'squared_error', 'squared_error',\n",
       "                    'squared_error', 'squared_error', 'squared_error',\n",
       "                    'squared_error', 'squared_error', 'squared_error',\n",
       "                    'squared_error', 'squared_error', 'squared_error',\n",
       "                    'squared_error'],\n",
       "              mask=[False, False, False, False, False, False, False, False,\n",
       "                    False, False, False, False, False, False, False, False],\n",
       "        fill_value='?',\n",
       "             dtype=object),\n",
       " 'param_Forest__n_estimators': masked_array(data=[5, 10, 15, 20, 25, 30, 35, 40, 45, 50, 55, 60, 65, 70,\n",
       "                    75, 80],\n",
       "              mask=[False, False, False, False, False, False, False, False,\n",
       "                    False, False, False, False, False, False, False, False],\n",
       "        fill_value='?',\n",
       "             dtype=object),\n",
       " 'params': [{'Forest__criterion': 'squared_error', 'Forest__n_estimators': 5},\n",
       "  {'Forest__criterion': 'squared_error', 'Forest__n_estimators': 10},\n",
       "  {'Forest__criterion': 'squared_error', 'Forest__n_estimators': 15},\n",
       "  {'Forest__criterion': 'squared_error', 'Forest__n_estimators': 20},\n",
       "  {'Forest__criterion': 'squared_error', 'Forest__n_estimators': 25},\n",
       "  {'Forest__criterion': 'squared_error', 'Forest__n_estimators': 30},\n",
       "  {'Forest__criterion': 'squared_error', 'Forest__n_estimators': 35},\n",
       "  {'Forest__criterion': 'squared_error', 'Forest__n_estimators': 40},\n",
       "  {'Forest__criterion': 'squared_error', 'Forest__n_estimators': 45},\n",
       "  {'Forest__criterion': 'squared_error', 'Forest__n_estimators': 50},\n",
       "  {'Forest__criterion': 'squared_error', 'Forest__n_estimators': 55},\n",
       "  {'Forest__criterion': 'squared_error', 'Forest__n_estimators': 60},\n",
       "  {'Forest__criterion': 'squared_error', 'Forest__n_estimators': 65},\n",
       "  {'Forest__criterion': 'squared_error', 'Forest__n_estimators': 70},\n",
       "  {'Forest__criterion': 'squared_error', 'Forest__n_estimators': 75},\n",
       "  {'Forest__criterion': 'squared_error', 'Forest__n_estimators': 80}],\n",
       " 'split0_test_score': array([0.08599269, 0.21205847, 0.19047232, 0.20899817, 0.21864068,\n",
       "        0.23811747, 0.2194238 , 0.21338307, 0.23260703, 0.2421754 ,\n",
       "        0.24008617, 0.24043003, 0.24240751, 0.25210047, 0.26329192,\n",
       "        0.25332959]),\n",
       " 'split1_test_score': array([0.19866963, 0.31060912, 0.30880389, 0.3318244 , 0.30666651,\n",
       "        0.31103818, 0.34745968, 0.35587409, 0.36845937, 0.34765981,\n",
       "        0.34958752, 0.35404041, 0.37971425, 0.35286381, 0.37072187,\n",
       "        0.35799841]),\n",
       " 'split2_test_score': array([0.22825655, 0.30821195, 0.39347332, 0.33591961, 0.35830026,\n",
       "        0.36427527, 0.33637725, 0.35054818, 0.34858156, 0.32719816,\n",
       "        0.3420664 , 0.36736914, 0.3645065 , 0.35448045, 0.37472314,\n",
       "        0.3668563 ]),\n",
       " 'split3_test_score': array([0.18438079, 0.24483449, 0.2589912 , 0.28093812, 0.30519956,\n",
       "        0.29162924, 0.2798012 , 0.30695609, 0.31624604, 0.29933435,\n",
       "        0.32094712, 0.32254386, 0.32396401, 0.31199763, 0.30315971,\n",
       "        0.32225919]),\n",
       " 'split4_test_score': array([0.16500344, 0.19725518, 0.21983488, 0.25442635, 0.27712677,\n",
       "        0.25003972, 0.26168411, 0.26322969, 0.28912671, 0.24946543,\n",
       "        0.26318281, 0.26450139, 0.29229965, 0.27377026, 0.27554306,\n",
       "        0.26501874]),\n",
       " 'mean_test_score': array([0.17246062, 0.25459384, 0.27431512, 0.28242133, 0.29318676,\n",
       "        0.29101998, 0.28894921, 0.29799822, 0.31100414, 0.29316663,\n",
       "        0.303174  , 0.30977697, 0.32057839, 0.30904252, 0.31748794,\n",
       "        0.31309245]),\n",
       " 'std_test_score': array([0.04790512, 0.04733886, 0.07158308, 0.04791578, 0.04556494,\n",
       "        0.04526697, 0.0476104 , 0.05396282, 0.04767677, 0.04165476,\n",
       "        0.04373119, 0.04959431, 0.04969621, 0.04118294, 0.04692888,\n",
       "        0.04663434]),\n",
       " 'rank_test_score': array([16, 15, 14, 13,  9, 11, 12,  8,  4, 10,  7,  5,  1,  6,  2,  3])}"
      ]
     },
     "execution_count": 16,
     "metadata": {},
     "output_type": "execute_result"
    }
   ],
   "source": [
    "grid_result.cv_results_"
   ]
  },
  {
   "cell_type": "code",
   "execution_count": 17,
   "id": "4350779a",
   "metadata": {},
   "outputs": [
    {
     "data": {
      "text/plain": [
       "Pipeline(steps=[('scaler', StandardScaler()),\n",
       "                ('Forest', RandomForestRegressor(n_estimators=65))])"
      ]
     },
     "execution_count": 17,
     "metadata": {},
     "output_type": "execute_result"
    }
   ],
   "source": [
    "grid_result.best_estimator_"
   ]
  },
  {
   "cell_type": "code",
   "execution_count": 18,
   "id": "b11a34db",
   "metadata": {},
   "outputs": [
    {
     "data": {
      "text/plain": [
       "0.3205783852968629"
      ]
     },
     "execution_count": 18,
     "metadata": {},
     "output_type": "execute_result"
    }
   ],
   "source": [
    "grid_result.best_score_"
   ]
  },
  {
   "cell_type": "code",
   "execution_count": 19,
   "id": "32b85c41",
   "metadata": {},
   "outputs": [
    {
     "data": {
      "text/plain": [
       "[5, 10, 15, 20, 25, 30, 35, 40, 45, 50, 55, 60, 65, 70, 75, 80]"
      ]
     },
     "execution_count": 19,
     "metadata": {},
     "output_type": "execute_result"
    }
   ],
   "source": [
    "parameters['Forest__n_estimators']"
   ]
  },
  {
   "cell_type": "code",
   "execution_count": 20,
   "id": "ad97c26f",
   "metadata": {},
   "outputs": [
    {
     "data": {
      "text/plain": [
       "array([0.17246062, 0.25459384, 0.27431512, 0.28242133, 0.29318676,\n",
       "       0.29101998, 0.28894921, 0.29799822, 0.31100414, 0.29316663,\n",
       "       0.303174  , 0.30977697, 0.32057839, 0.30904252, 0.31748794,\n",
       "       0.31309245])"
      ]
     },
     "execution_count": 20,
     "metadata": {},
     "output_type": "execute_result"
    }
   ],
   "source": [
    "grid_result.cv_results_['mean_test_score']"
   ]
  },
  {
   "cell_type": "code",
   "execution_count": 21,
   "id": "7f27d5d2",
   "metadata": {},
   "outputs": [
    {
     "data": {
      "text/plain": [
       "<AxesSubplot:>"
      ]
     },
     "execution_count": 21,
     "metadata": {},
     "output_type": "execute_result"
    },
    {
     "data": {
      "image/png": "[encoded data removed]",
      "text/plain": [
       "<Figure size 864x576 with 1 Axes>"
      ]
     },
     "metadata": {
      "needs_background": "light"
     },
     "output_type": "display_data"
    }
   ],
   "source": [
    "fig, ax1 = plt.subplots(figsize=(12, 8))\n",
    "sns.lineplot(x=parameters['Forest__n_estimators'], y=grid_result.cv_results_['mean_test_score'])"
   ]
  },
  {
   "cell_type": "markdown",
   "id": "1d81e9b9",
   "metadata": {},
   "source": [
    "Elegimos n_estimators=65"
   ]
  },
  {
   "cell_type": "code",
   "execution_count": 29,
   "id": "77eb884e",
   "metadata": {},
   "outputs": [],
   "source": [
    "parameters2 = {'Forest__n_estimators':[65], 'Forest__criterion':['squared_error'], \n",
    "               'Forest__max_depth':[4,5,6,7,8,9,10,11,12] }"
   ]
  },
  {
   "cell_type": "code",
   "execution_count": 30,
   "id": "377cf3a2",
   "metadata": {},
   "outputs": [],
   "source": [
    "grid2 = GridSearchCV(pipe, param_grid=parameters2, cv=5, n_jobs=4, verbose=4)"
   ]
  },
  {
   "cell_type": "code",
   "execution_count": 31,
   "id": "2836ae3b",
   "metadata": {},
   "outputs": [
    {
     "name": "stdout",
     "output_type": "stream",
     "text": [
      "Fitting 5 folds for each of 9 candidates, totalling 45 fits\n"
     ]
    }
   ],
   "source": [
    "grid_result2 = grid2.fit(X, y)"
   ]
  },
  {
   "cell_type": "code",
   "execution_count": 32,
   "id": "5e821f89",
   "metadata": {},
   "outputs": [
    {
     "data": {
      "text/plain": [
       "{'mean_fit_time': array([0.16070528, 0.19583097, 0.19867921, 0.25875587, 0.25574284,\n",
       "        0.2712286 , 0.32556801, 0.32893972, 0.31533031]),\n",
       " 'std_fit_time': array([0.02520039, 0.01792316, 0.01682749, 0.04492068, 0.01009742,\n",
       "        0.02043931, 0.02855626, 0.01533424, 0.0286915 ]),\n",
       " 'mean_score_time': array([0.00513086, 0.00562606, 0.00401177, 0.00802975, 0.00823731,\n",
       "        0.00940299, 0.0084022 , 0.00699625, 0.00820537]),\n",
       " 'std_score_time': array([0.0065283 , 0.00409699, 0.0042061 , 0.01038366, 0.00363723,\n",
       "        0.0059142 , 0.00102993, 0.0035758 , 0.00099017]),\n",
       " 'param_Forest__criterion': masked_array(data=['squared_error', 'squared_error', 'squared_error',\n",
       "                    'squared_error', 'squared_error', 'squared_error',\n",
       "                    'squared_error', 'squared_error', 'squared_error'],\n",
       "              mask=[False, False, False, False, False, False, False, False,\n",
       "                    False],\n",
       "        fill_value='?',\n",
       "             dtype=object),\n",
       " 'param_Forest__max_depth': masked_array(data=[4, 5, 6, 7, 8, 9, 10, 11, 12],\n",
       "              mask=[False, False, False, False, False, False, False, False,\n",
       "                    False],\n",
       "        fill_value='?',\n",
       "             dtype=object),\n",
       " 'param_Forest__n_estimators': masked_array(data=[65, 65, 65, 65, 65, 65, 65, 65, 65],\n",
       "              mask=[False, False, False, False, False, False, False, False,\n",
       "                    False],\n",
       "        fill_value='?',\n",
       "             dtype=object),\n",
       " 'params': [{'Forest__criterion': 'squared_error',\n",
       "   'Forest__max_depth': 4,\n",
       "   'Forest__n_estimators': 65},\n",
       "  {'Forest__criterion': 'squared_error',\n",
       "   'Forest__max_depth': 5,\n",
       "   'Forest__n_estimators': 65},\n",
       "  {'Forest__criterion': 'squared_error',\n",
       "   'Forest__max_depth': 6,\n",
       "   'Forest__n_estimators': 65},\n",
       "  {'Forest__criterion': 'squared_error',\n",
       "   'Forest__max_depth': 7,\n",
       "   'Forest__n_estimators': 65},\n",
       "  {'Forest__criterion': 'squared_error',\n",
       "   'Forest__max_depth': 8,\n",
       "   'Forest__n_estimators': 65},\n",
       "  {'Forest__criterion': 'squared_error',\n",
       "   'Forest__max_depth': 9,\n",
       "   'Forest__n_estimators': 65},\n",
       "  {'Forest__criterion': 'squared_error',\n",
       "   'Forest__max_depth': 10,\n",
       "   'Forest__n_estimators': 65},\n",
       "  {'Forest__criterion': 'squared_error',\n",
       "   'Forest__max_depth': 11,\n",
       "   'Forest__n_estimators': 65},\n",
       "  {'Forest__criterion': 'squared_error',\n",
       "   'Forest__max_depth': 12,\n",
       "   'Forest__n_estimators': 65}],\n",
       " 'split0_test_score': array([0.19308073, 0.2045961 , 0.22284413, 0.24655066, 0.24411933,\n",
       "        0.23922487, 0.26020143, 0.23761537, 0.25053845]),\n",
       " 'split1_test_score': array([0.33364244, 0.35602022, 0.34761634, 0.35775473, 0.35513719,\n",
       "        0.36299493, 0.34925635, 0.34253637, 0.35163271]),\n",
       " 'split2_test_score': array([0.39886009, 0.39807759, 0.39149482, 0.38949766, 0.39302132,\n",
       "        0.40068871, 0.36353421, 0.37459213, 0.38397763]),\n",
       " 'split3_test_score': array([0.35028216, 0.35577933, 0.33717042, 0.33536089, 0.33845968,\n",
       "        0.32156853, 0.33890291, 0.35332787, 0.31335314]),\n",
       " 'split4_test_score': array([0.28183842, 0.27978534, 0.28066314, 0.28408218, 0.28688407,\n",
       "        0.2757272 , 0.27760315, 0.29427953, 0.2748768 ]),\n",
       " 'mean_test_score': array([0.31154077, 0.31885172, 0.31595777, 0.32264922, 0.32352432,\n",
       "        0.32004085, 0.31789961, 0.32047025, 0.31487575]),\n",
       " 'std_test_score': array([0.07004149, 0.06870577, 0.0584362 , 0.05126618, 0.05234488,\n",
       "        0.05804547, 0.04113341, 0.04908483, 0.04871892]),\n",
       " 'rank_test_score': array([9, 5, 7, 2, 1, 4, 6, 3, 8])}"
      ]
     },
     "execution_count": 32,
     "metadata": {},
     "output_type": "execute_result"
    }
   ],
   "source": [
    "grid_result2.cv_results_"
   ]
  },
  {
   "cell_type": "code",
   "execution_count": 33,
   "id": "22ced877",
   "metadata": {},
   "outputs": [
    {
     "data": {
      "text/plain": [
       "Pipeline(steps=[('scaler', StandardScaler()),\n",
       "                ('Forest',\n",
       "                 RandomForestRegressor(max_depth=8, n_estimators=65))])"
      ]
     },
     "execution_count": 33,
     "metadata": {},
     "output_type": "execute_result"
    }
   ],
   "source": [
    "grid_result2.best_estimator_"
   ]
  },
  {
   "cell_type": "code",
   "execution_count": 34,
   "id": "ee88c8d1",
   "metadata": {},
   "outputs": [
    {
     "data": {
      "text/plain": [
       "0.32352431809112336"
      ]
     },
     "execution_count": 34,
     "metadata": {},
     "output_type": "execute_result"
    }
   ],
   "source": [
    "grid_result2.best_score_"
   ]
  },
  {
   "cell_type": "code",
   "execution_count": 35,
   "id": "191775c9",
   "metadata": {},
   "outputs": [
    {
     "data": {
      "text/plain": [
       "<AxesSubplot:>"
      ]
     },
     "execution_count": 35,
     "metadata": {},
     "output_type": "execute_result"
    },
    {
     "data": {
      "image/png": "[encoded data removed]",
      "text/plain": [
       "<Figure size 864x576 with 1 Axes>"
      ]
     },
     "metadata": {
      "needs_background": "light"
     },
     "output_type": "display_data"
    }
   ],
   "source": [
    "fig, ax1 = plt.subplots(figsize=(12, 8))\n",
    "sns.lineplot(x= parameters2['Forest__max_depth'], y= grid_result2.cv_results_['mean_test_score'])"
   ]
  },
  {
   "cell_type": "markdown",
   "id": "274c909e",
   "metadata": {},
   "source": [
    "Elegimos max_depth=8 como mejor valor para el parametro."
   ]
  },
  {
   "cell_type": "code",
   "execution_count": null,
   "id": "864f779c",
   "metadata": {},
   "outputs": [],
   "source": []
  }
 ],
 "metadata": {
  "kernelspec": {
   "display_name": "Python 3 (ipykernel)",
   "language": "python",
   "name": "python3"
  },
  "language_info": {
   "codemirror_mode": {
    "name": "ipython",
    "version": 3
   },
   "file_extension": ".py",
   "mimetype": "text/x-python",
   "name": "python",
   "nbconvert_exporter": "python",
   "pygments_lexer": "ipython3",
   "version": "3.8.10"
  }
 },
 "nbformat": 4,
 "nbformat_minor": 5
}
