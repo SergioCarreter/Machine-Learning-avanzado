{
 "cells": [
  {
   "cell_type": "code",
   "execution_count": 1,
   "id": "d121d9b3",
   "metadata": {},
   "outputs": [
    {
     "name": "stderr",
     "output_type": "stream",
     "text": [
      "[nltk_data] Downloading package punkt to\n",
      "[nltk_data]     C:\\Users\\sergi\\AppData\\Roaming\\nltk_data...\n",
      "[nltk_data]   Package punkt is already up-to-date!\n",
      "[nltk_data] Downloading package stopwords to\n",
      "[nltk_data]     C:\\Users\\sergi\\AppData\\Roaming\\nltk_data...\n",
      "[nltk_data]   Package stopwords is already up-to-date!\n",
      "[nltk_data] Downloading package wordnet to\n",
      "[nltk_data]     C:\\Users\\sergi\\AppData\\Roaming\\nltk_data...\n",
      "[nltk_data]   Package wordnet is already up-to-date!\n"
     ]
    }
   ],
   "source": [
    "import nltk\n",
    "nltk.download('punkt')\n",
    "nltk.download('stopwords')\n",
    "nltk.download('wordnet')\n",
    "\n",
    "from nltk.tokenize import sent_tokenize, word_tokenize\n",
    "\n",
    "import pandas as pd\n",
    "import numpy as np\n",
    "from sklearn.model_selection import train_test_split\n",
    "\n",
    "import matplotlib.pyplot as plt"
   ]
  },
  {
   "cell_type": "markdown",
   "id": "fc6798be",
   "metadata": {},
   "source": [
    "Usaremos un Texto extraido de:\n",
    "\n",
    "https://www.pcgamer.com/why-you-still-cant-buy-a-graphics-cards-according-to-a-supply-chain-expert/"
   ]
  },
  {
   "cell_type": "code",
   "execution_count": 2,
   "id": "5c30cff2",
   "metadata": {},
   "outputs": [],
   "source": [
    "text='''Earlier this year we spoke with Dr. Thomas Goldsby, a supply chain expert, on what was going on with global semiconductor supply. Specifically, we wanted to get to the bottom of why it's incredibly difficult to buy a graphics card in 2021. Since we're still no closer to a healthy supply of GPUs, at a time when we might have otherwise seen Black Friday graphics card deals, we've decided to run this feature again to offer some explanation to those wondering what's up.\n",
    "In order to buy a graphics card in 2021 you'll need smarts, agility, and, most of all, a bit of luck on your side. Look at the bigger picture and the reason for this is simple: demand outstrips supply, leading to a semiconductor shortage. But what does it actually mean to not have enough chips? How did we end up in this situation? And how the heck does it get fixed?\n",
    "\n",
    "In order to answer those questions, it's important to look past the simple truths of empty shelves; that there's not enough to go around. Instead looking as to why some of the largest companies in the world are unable to meet the tremendous demand of the moment. Because the silicon shortage is not only affecting sales of graphics cards and a specific CPU or two, but causing migraines at automobile manufacturers, logistics companies, service providers, retailers, and further afield.\n",
    "Anyone sticking to the curve of cutting-edge technology is currently feeling the squeeze of the semiconductor shortage.\n",
    "In hopes of explaining this phenomena, I've been speaking with Dr. Thomas Goldsby, the Haslam Chair of Logistics at the University of Tennessee’s Master's of Science in Supply Chain Management online program, and a certified supply chain expert.\n",
    "\"I was taking part in an industry meeting a few days ago,\" Dr. Goldsby says, \"and a senior executive from a major company said 'when things are going well in our supply chain we receive very little notice, we're just kind of operating under the radar, and people don't really call us out that much. But when things are not going well, when you can't meet the basic business premise of delivering on your commitments to your customers, they're gonna look to supply chain.'\"\n",
    "\n",
    "That's largely true of PC gaming, too. When things are going well, we tend to ease up on the analysis of overarching industry trends and supply chain, distribution, or logistical concerns. We still care deeply about the manufacturing process of those parts that matter most to us, though the exact time and location of a stock drop at your local Best Buy tends to go by without passing remark.\n",
    "But we've also had quite a few ups and downs in the hobby as of the past half decade—I'm talking more than your usual launch month jitters that see the shelves emptied for the hottest chips the moment they go on sale. With them we've grown more attuned to the prevailing headwinds of semiconductor manufacturing. No more so than the perhaps most deep-seated, unwavering, and ongoing silicon shortage, namely affecting the graphics card market, that has thus far continued through 2020 and into 2021.\n",
    "\n",
    "There are multitude of reasons for this ongoing shortage. Ultimately, though, it comes down to factors affecting demand and those affecting supply.\n",
    "\"Let's just start with the demand side of the equation,\" Dr. Goldsby explains. \"Certainly, the pandemic has driven up purchase and consumption experience of more and more electronic based products. As people shifted how they use their time, from being at work to being at home, and the toys, gadgets and technology required to keep your sanity, frankly, during the course of the pandemic drove intense demand.\n",
    "\"However, that was preceded by a bit of a pause, where people didn't quite know what to make of this pandemic.\"\n",
    "Such a pause preceding a significant shift in demand results in, as Dr. Goldsby describes, a V-shaped rebound, or drop-off and then rapid return, in demand. That in itself has wreaked havoc, but that's hardly the end of it.\n",
    "\n",
    "For graphics cards, demand constitutes gamers—those eyeing up the latest developments from both Nvidia and AMD—but also cryptocurrency miners riding the wave of buoyant market value, and companies looking to expand their online services with more capacity and capability.\n",
    "\n",
    "\"Getting to the supply side of the equation, you have to go back a little bit in history among the chip makers. We've really got TSMC, Taiwan Semiconductor Manufacturing Corp; you've got Intel; you've got Samsung; a few other smaller players. But you're talking about a highly concentrated market of suppliers.\"\n",
    "TSMC is responsible for most of AMD's CPU and GPU products, while Samsung is the manufacturer of Nvidia's RTX 30-series. The go-to gut reaction is to decry these companies for not making more chips. And it's true that would end the chip shortage, if it were so easy.\n",
    "\n",
    "\"That doesn't happen overnight,\" Dr. Goldsby tells me.\n",
    "\n",
    "All of these companies have promised expansion and are in the process of delivering on those promises. Intel, for example, broke ground on two new factories in Arizona last month, for the purpose of expanding both Intel's capability to meet chip demand and kickstart its new Intel Foundry Services project, which aims to go toe-to-toe with TSMC and Samsung in building chips for other people.\n",
    "But even Intel and rivals TSMC expect shortages to continue until 2022, if not 2023.\n",
    "\n",
    "And there's more to this complex story than a handful of chipmakers. Because these major chipmakers have numerous suppliers, and these suppliers have suppliers, and so on and so fourth until you finally reach a company dealing exclusively in raw materials. It's a complex chain, essentially.\n",
    "\n",
    "'''"
   ]
  },
  {
   "cell_type": "markdown",
   "id": "a9f2bb64",
   "metadata": {},
   "source": [
    "* sent_tokenize() devuelve una lista de frases"
   ]
  },
  {
   "cell_type": "code",
   "execution_count": 3,
   "id": "37c2f475",
   "metadata": {},
   "outputs": [],
   "source": [
    "tokenized_text = sent_tokenize(text)"
   ]
  },
  {
   "cell_type": "code",
   "execution_count": 4,
   "id": "97c2e211",
   "metadata": {},
   "outputs": [
    {
     "data": {
      "text/plain": [
       "['Earlier this year we spoke with Dr. Thomas Goldsby, a supply chain expert, on what was going on with global semiconductor supply.',\n",
       " \"Specifically, we wanted to get to the bottom of why it's incredibly difficult to buy a graphics card in 2021.\",\n",
       " \"Since we're still no closer to a healthy supply of GPUs, at a time when we might have otherwise seen Black Friday graphics card deals, we've decided to run this feature again to offer some explanation to those wondering what's up.\"]"
      ]
     },
     "execution_count": 4,
     "metadata": {},
     "output_type": "execute_result"
    }
   ],
   "source": [
    "tokenized_text[0:3]"
   ]
  },
  {
   "cell_type": "markdown",
   "id": "79d2474c",
   "metadata": {},
   "source": [
    "word_tokenize() devuelve el texto en una lista de palabras y signos como: ,.()\n",
    "\n",
    "Tambien incluye articulos, prep. etc"
   ]
  },
  {
   "cell_type": "code",
   "execution_count": 5,
   "id": "2580cb82",
   "metadata": {},
   "outputs": [],
   "source": [
    "tokenized_word = word_tokenize(text)"
   ]
  },
  {
   "cell_type": "code",
   "execution_count": 6,
   "id": "9a61e5b3",
   "metadata": {},
   "outputs": [
    {
     "data": {
      "text/plain": [
       "['Earlier', 'this', 'year']"
      ]
     },
     "execution_count": 6,
     "metadata": {},
     "output_type": "execute_result"
    }
   ],
   "source": [
    "tokenized_word[0:3]"
   ]
  },
  {
   "cell_type": "markdown",
   "id": "e718c25e",
   "metadata": {},
   "source": [
    "-------------------\n",
    "\n",
    "## N1 Ejercicio 2\n",
    "\n",
    "Calcula la frecuencia de palabras de un texto en ingles\n",
    "\n",
    "----------------------"
   ]
  },
  {
   "cell_type": "markdown",
   "id": "3add01d0",
   "metadata": {},
   "source": [
    "----------------------\n",
    "\n",
    "## N2 Ejercicio 1\n",
    "\n",
    "Treu stopwords y haz stemming al conjunto de datos.\n",
    "\n",
    "---------------------"
   ]
  },
  {
   "cell_type": "markdown",
   "id": "88ee1059",
   "metadata": {},
   "source": [
    "stop.words() proporciona el conjunto de palabras sin carga semantica a excluir\n",
    "\n",
    "Eliminamos de la lista de palabras **tokenized_word** y lo guardaremos en  **filtered_sent**:\n",
    "\n",
    "* Todas las palabras que sean **stopwords**\n",
    "* Los caracteres que no sean alfanumericas  "
   ]
  },
  {
   "cell_type": "code",
   "execution_count": 7,
   "id": "f68ec5b9",
   "metadata": {},
   "outputs": [],
   "source": [
    "from nltk.corpus import stopwords"
   ]
  },
  {
   "cell_type": "code",
   "execution_count": 8,
   "id": "0a0b225f",
   "metadata": {},
   "outputs": [],
   "source": [
    "stop_words = set(stopwords.words(\"english\"))\n",
    "filtered_sent = [ w.lower() for w in tokenized_word if (w not in stop_words) and (w.isalnum())]"
   ]
  },
  {
   "cell_type": "markdown",
   "id": "d8b63ec9",
   "metadata": {},
   "source": [
    "Visualizemos las 5 palabras mas frecuentes del texto"
   ]
  },
  {
   "cell_type": "code",
   "execution_count": 9,
   "id": "a883ad8e",
   "metadata": {},
   "outputs": [],
   "source": [
    "from nltk.probability import FreqDist"
   ]
  },
  {
   "cell_type": "code",
   "execution_count": 10,
   "id": "7c298ce7",
   "metadata": {},
   "outputs": [
    {
     "data": {
      "text/plain": [
       "[('supply', 11), ('demand', 9), ('chain', 7), ('goldsby', 6), ('graphics', 6)]"
      ]
     },
     "execution_count": 10,
     "metadata": {},
     "output_type": "execute_result"
    }
   ],
   "source": [
    "fdist = FreqDist(filtered_sent)\n",
    "fdist.most_common(5)"
   ]
  },
  {
   "cell_type": "markdown",
   "id": "152bf217",
   "metadata": {},
   "source": [
    "Veamos un grafico con la frecuencia de ocurrencia de las 30 palabras mas usadas en el texto"
   ]
  },
  {
   "cell_type": "code",
   "execution_count": 11,
   "id": "6055cf5b",
   "metadata": {},
   "outputs": [
    {
     "data": {
      "image/png": "[encoded data removed]",
      "text/plain": [
       "<Figure size 1008x576 with 1 Axes>"
      ]
     },
     "metadata": {
      "needs_background": "light"
     },
     "output_type": "display_data"
    }
   ],
   "source": [
    "plt.figure(figsize=(14, 8))\n",
    "fdist.plot(30,cumulative=False)\n",
    "plt.show()"
   ]
  },
  {
   "cell_type": "code",
   "execution_count": 12,
   "id": "ad04d37d",
   "metadata": {},
   "outputs": [],
   "source": [
    "from nltk.stem.wordnet import WordNetLemmatizer\n",
    "lem = WordNetLemmatizer()\n",
    "\n",
    "from nltk.stem.porter import PorterStemmer\n",
    "stem = PorterStemmer()\n",
    "\n",
    "stemmed_words=[]\n",
    "for w in filtered_sent:\n",
    "    stemmed_words.append(stem.stem(w))\n",
    "\n",
    "lemm_words=[]\n",
    "for w in filtered_sent:\n",
    "    lemm_words.append(lem.lemmatize(w))"
   ]
  },
  {
   "cell_type": "markdown",
   "id": "abd218e8",
   "metadata": {},
   "source": [
    "Stemming devuelve la raiz de las palabras.\n",
    "\n",
    "Lemmatize devuelve el lema de la palabra, la palabra raiz."
   ]
  },
  {
   "cell_type": "code",
   "execution_count": 13,
   "id": "ec26c3e4",
   "metadata": {},
   "outputs": [
    {
     "data": {
      "text/plain": [
       "['earlier', 'year', 'spoke', 'thoma', 'goldsbi', 'suppli', 'chain']"
      ]
     },
     "execution_count": 13,
     "metadata": {},
     "output_type": "execute_result"
    }
   ],
   "source": [
    "stemmed_words[0:7]"
   ]
  },
  {
   "cell_type": "code",
   "execution_count": 14,
   "id": "4ad317b4",
   "metadata": {},
   "outputs": [
    {
     "data": {
      "text/plain": [
       "['earlier', 'year', 'spoke', 'thomas', 'goldsby', 'supply', 'chain']"
      ]
     },
     "execution_count": 14,
     "metadata": {},
     "output_type": "execute_result"
    }
   ],
   "source": [
    "lemm_words[0:7]"
   ]
  },
  {
   "cell_type": "markdown",
   "id": "96f8e615",
   "metadata": {},
   "source": [
    "-----------------------\n",
    "\n",
    "## N3 Ejercicio 1\n",
    "\n",
    "Haz sentiment analysis a tu conjunto de datos\n",
    "\n",
    "-------------------"
   ]
  },
  {
   "cell_type": "markdown",
   "id": "74ee89ab",
   "metadata": {},
   "source": [
    "Para este ejercicio usaremos el dataset de kaggle de sentiment analysis on movie reviews\n",
    "\n",
    "https://www.kaggle.com/c/sentiment-analysis-on-movie-reviews/code?competitionId=3810&sortBy=voteCount&language=Python"
   ]
  },
  {
   "cell_type": "code",
   "execution_count": 15,
   "id": "915dca89",
   "metadata": {},
   "outputs": [],
   "source": [
    "df = pd.read_csv('movie_reviews_train.tsv', sep='\\t')"
   ]
  },
  {
   "cell_type": "code",
   "execution_count": 16,
   "id": "92ea0dbb",
   "metadata": {},
   "outputs": [
    {
     "data": {
      "text/html": [
       "<div>\n",
       "<style scoped>\n",
       "    .dataframe tbody tr th:only-of-type {\n",
       "        vertical-align: middle;\n",
       "    }\n",
       "\n",
       "    .dataframe tbody tr th {\n",
       "        vertical-align: top;\n",
       "    }\n",
       "\n",
       "    .dataframe thead th {\n",
       "        text-align: right;\n",
       "    }\n",
       "</style>\n",
       "<table border=\"1\" class=\"dataframe\">\n",
       "  <thead>\n",
       "    <tr style=\"text-align: right;\">\n",
       "      <th></th>\n",
       "      <th>PhraseId</th>\n",
       "      <th>SentenceId</th>\n",
       "      <th>Phrase</th>\n",
       "      <th>Sentiment</th>\n",
       "    </tr>\n",
       "  </thead>\n",
       "  <tbody>\n",
       "    <tr>\n",
       "      <th>0</th>\n",
       "      <td>1</td>\n",
       "      <td>1</td>\n",
       "      <td>A series of escapades demonstrating the adage ...</td>\n",
       "      <td>1</td>\n",
       "    </tr>\n",
       "    <tr>\n",
       "      <th>1</th>\n",
       "      <td>2</td>\n",
       "      <td>1</td>\n",
       "      <td>A series of escapades demonstrating the adage ...</td>\n",
       "      <td>2</td>\n",
       "    </tr>\n",
       "    <tr>\n",
       "      <th>2</th>\n",
       "      <td>3</td>\n",
       "      <td>1</td>\n",
       "      <td>A series</td>\n",
       "      <td>2</td>\n",
       "    </tr>\n",
       "    <tr>\n",
       "      <th>3</th>\n",
       "      <td>4</td>\n",
       "      <td>1</td>\n",
       "      <td>A</td>\n",
       "      <td>2</td>\n",
       "    </tr>\n",
       "    <tr>\n",
       "      <th>4</th>\n",
       "      <td>5</td>\n",
       "      <td>1</td>\n",
       "      <td>series</td>\n",
       "      <td>2</td>\n",
       "    </tr>\n",
       "  </tbody>\n",
       "</table>\n",
       "</div>"
      ],
      "text/plain": [
       "   PhraseId  SentenceId                                             Phrase  \\\n",
       "0         1           1  A series of escapades demonstrating the adage ...   \n",
       "1         2           1  A series of escapades demonstrating the adage ...   \n",
       "2         3           1                                           A series   \n",
       "3         4           1                                                  A   \n",
       "4         5           1                                             series   \n",
       "\n",
       "   Sentiment  \n",
       "0          1  \n",
       "1          2  \n",
       "2          2  \n",
       "3          2  \n",
       "4          2  "
      ]
     },
     "execution_count": 16,
     "metadata": {},
     "output_type": "execute_result"
    }
   ],
   "source": [
    "df.head(5)"
   ]
  },
  {
   "cell_type": "code",
   "execution_count": 17,
   "id": "7a67fd41",
   "metadata": {},
   "outputs": [
    {
     "name": "stdout",
     "output_type": "stream",
     "text": [
      "<class 'pandas.core.frame.DataFrame'>\n",
      "RangeIndex: 156060 entries, 0 to 156059\n",
      "Data columns (total 4 columns):\n",
      " #   Column      Non-Null Count   Dtype \n",
      "---  ------      --------------   ----- \n",
      " 0   PhraseId    156060 non-null  int64 \n",
      " 1   SentenceId  156060 non-null  int64 \n",
      " 2   Phrase      156060 non-null  object\n",
      " 3   Sentiment   156060 non-null  int64 \n",
      "dtypes: int64(3), object(1)\n",
      "memory usage: 4.8+ MB\n"
     ]
    }
   ],
   "source": [
    "df.info()"
   ]
  },
  {
   "cell_type": "code",
   "execution_count": 18,
   "id": "97481168",
   "metadata": {},
   "outputs": [
    {
     "data": {
      "text/html": [
       "<div>\n",
       "<style scoped>\n",
       "    .dataframe tbody tr th:only-of-type {\n",
       "        vertical-align: middle;\n",
       "    }\n",
       "\n",
       "    .dataframe tbody tr th {\n",
       "        vertical-align: top;\n",
       "    }\n",
       "\n",
       "    .dataframe thead th {\n",
       "        text-align: right;\n",
       "    }\n",
       "</style>\n",
       "<table border=\"1\" class=\"dataframe\">\n",
       "  <thead>\n",
       "    <tr style=\"text-align: right;\">\n",
       "      <th></th>\n",
       "      <th>PhraseId</th>\n",
       "      <th>SentenceId</th>\n",
       "      <th>Sentiment</th>\n",
       "    </tr>\n",
       "  </thead>\n",
       "  <tbody>\n",
       "    <tr>\n",
       "      <th>count</th>\n",
       "      <td>156060.000000</td>\n",
       "      <td>156060.000000</td>\n",
       "      <td>156060.000000</td>\n",
       "    </tr>\n",
       "    <tr>\n",
       "      <th>mean</th>\n",
       "      <td>78030.500000</td>\n",
       "      <td>4079.732744</td>\n",
       "      <td>2.063578</td>\n",
       "    </tr>\n",
       "    <tr>\n",
       "      <th>std</th>\n",
       "      <td>45050.785842</td>\n",
       "      <td>2502.764394</td>\n",
       "      <td>0.893832</td>\n",
       "    </tr>\n",
       "    <tr>\n",
       "      <th>min</th>\n",
       "      <td>1.000000</td>\n",
       "      <td>1.000000</td>\n",
       "      <td>0.000000</td>\n",
       "    </tr>\n",
       "    <tr>\n",
       "      <th>25%</th>\n",
       "      <td>39015.750000</td>\n",
       "      <td>1861.750000</td>\n",
       "      <td>2.000000</td>\n",
       "    </tr>\n",
       "    <tr>\n",
       "      <th>50%</th>\n",
       "      <td>78030.500000</td>\n",
       "      <td>4017.000000</td>\n",
       "      <td>2.000000</td>\n",
       "    </tr>\n",
       "    <tr>\n",
       "      <th>75%</th>\n",
       "      <td>117045.250000</td>\n",
       "      <td>6244.000000</td>\n",
       "      <td>3.000000</td>\n",
       "    </tr>\n",
       "    <tr>\n",
       "      <th>max</th>\n",
       "      <td>156060.000000</td>\n",
       "      <td>8544.000000</td>\n",
       "      <td>4.000000</td>\n",
       "    </tr>\n",
       "  </tbody>\n",
       "</table>\n",
       "</div>"
      ],
      "text/plain": [
       "            PhraseId     SentenceId      Sentiment\n",
       "count  156060.000000  156060.000000  156060.000000\n",
       "mean    78030.500000    4079.732744       2.063578\n",
       "std     45050.785842    2502.764394       0.893832\n",
       "min         1.000000       1.000000       0.000000\n",
       "25%     39015.750000    1861.750000       2.000000\n",
       "50%     78030.500000    4017.000000       2.000000\n",
       "75%    117045.250000    6244.000000       3.000000\n",
       "max    156060.000000    8544.000000       4.000000"
      ]
     },
     "execution_count": 18,
     "metadata": {},
     "output_type": "execute_result"
    }
   ],
   "source": [
    "df.describe()"
   ]
  },
  {
   "cell_type": "markdown",
   "id": "1b076188",
   "metadata": {},
   "source": [
    "**CountVectorizer()** convierte una coleccion de textos en una matriz de token counts.\n",
    "\n",
    "**bow_dtm** contiene el DTM en forma de sparse matrix comprimida."
   ]
  },
  {
   "cell_type": "code",
   "execution_count": 19,
   "id": "5d385ad4",
   "metadata": {},
   "outputs": [],
   "source": [
    "from sklearn.feature_extraction.text import CountVectorizer\n",
    "from nltk.tokenize import RegexpTokenizer"
   ]
  },
  {
   "cell_type": "code",
   "execution_count": 20,
   "id": "67e192eb",
   "metadata": {},
   "outputs": [],
   "source": [
    "# Feature Generation using Bag of Words con CountVectorizer()\n",
    "# extraeremos solo las palabras, no los numeros.\n",
    "\n",
    "token = RegexpTokenizer(r'[a-zA-Z]+')\n",
    "cv = CountVectorizer(lowercase=True, stop_words='english', ngram_range = (1,1), tokenizer = token.tokenize)\n",
    "bow_dtm = cv.fit_transform(df['Phrase'])"
   ]
  },
  {
   "cell_type": "code",
   "execution_count": 21,
   "id": "7fa1acd7",
   "metadata": {},
   "outputs": [
    {
     "data": {
      "text/plain": [
       "CountVectorizer(stop_words='english',\n",
       "                tokenizer=<bound method RegexpTokenizer.tokenize of RegexpTokenizer(pattern='[a-zA-Z]+', gaps=False, discard_empty=True, flags=re.UNICODE|re.MULTILINE|re.DOTALL)>)"
      ]
     },
     "execution_count": 21,
     "metadata": {},
     "output_type": "execute_result"
    }
   ],
   "source": [
    "cv"
   ]
  },
  {
   "cell_type": "code",
   "execution_count": 22,
   "id": "3875bfa0",
   "metadata": {},
   "outputs": [
    {
     "data": {
      "text/plain": [
       "RegexpTokenizer(pattern='[a-zA-Z]+', gaps=False, discard_empty=True, flags=re.UNICODE|re.MULTILINE|re.DOTALL)"
      ]
     },
     "execution_count": 22,
     "metadata": {},
     "output_type": "execute_result"
    }
   ],
   "source": [
    "token"
   ]
  },
  {
   "cell_type": "code",
   "execution_count": 23,
   "id": "cfdb8b11",
   "metadata": {},
   "outputs": [
    {
     "data": {
      "text/plain": [
       "<bound method RegexpTokenizer.tokenize of RegexpTokenizer(pattern='[a-zA-Z]+', gaps=False, discard_empty=True, flags=re.UNICODE|re.MULTILINE|re.DOTALL)>"
      ]
     },
     "execution_count": 23,
     "metadata": {},
     "output_type": "execute_result"
    }
   ],
   "source": [
    "token.tokenize"
   ]
  },
  {
   "cell_type": "code",
   "execution_count": 24,
   "id": "66e8d640",
   "metadata": {},
   "outputs": [
    {
     "data": {
      "text/plain": [
       "scipy.sparse.csr.csr_matrix"
      ]
     },
     "execution_count": 24,
     "metadata": {},
     "output_type": "execute_result"
    }
   ],
   "source": [
    "type(bow_dtm)"
   ]
  },
  {
   "cell_type": "code",
   "execution_count": 25,
   "id": "51c1ebe3",
   "metadata": {},
   "outputs": [
    {
     "data": {
      "text/plain": [
       "(156060, 14839)"
      ]
     },
     "execution_count": 25,
     "metadata": {},
     "output_type": "execute_result"
    }
   ],
   "source": [
    "bow_dtm.shape"
   ]
  },
  {
   "cell_type": "code",
   "execution_count": 26,
   "id": "3ca462d7",
   "metadata": {},
   "outputs": [],
   "source": [
    "# Usamos train_test_split() con X la sparse matrix resultado de CountVectorizer(), e y el 'sentiment' de las frases.\n",
    "X_train, X_test, y_train, y_test = train_test_split(bow_dtm, df['Sentiment'], test_size=0.2, random_state=33)"
   ]
  },
  {
   "cell_type": "code",
   "execution_count": 27,
   "id": "e1d03d26",
   "metadata": {},
   "outputs": [],
   "source": [
    "from sklearn.naive_bayes import MultinomialNB\n",
    "from sklearn import metrics"
   ]
  },
  {
   "cell_type": "code",
   "execution_count": 28,
   "id": "bd17b0cd",
   "metadata": {},
   "outputs": [
    {
     "name": "stdout",
     "output_type": "stream",
     "text": [
      "Bag of Words with MNB Accuracy: 0.6118800461361015\n"
     ]
    }
   ],
   "source": [
    "# Generamos el modelo predictivo de 'sentiment' con Multinomial Naive Bayes\n",
    "bow_clf = MultinomialNB().fit(X_train, y_train)\n",
    "\n",
    "bow_y_pred= bow_clf.predict(X_test)\n",
    "print(\"Bag of Words with MNB Accuracy:\",metrics.accuracy_score(y_test, bow_y_pred))"
   ]
  },
  {
   "cell_type": "markdown",
   "id": "39fe68c7",
   "metadata": {},
   "source": [
    "Usamos TFidfVectorizer() para obtener la matriz DTM.\n",
    "\n",
    "TFidfVectorizer() equivale a CountVectorizer() seguido por TfidfTransformer()\n",
    "\n",
    "TfidfTransformer() normaliza la DTM."
   ]
  },
  {
   "cell_type": "code",
   "execution_count": 29,
   "id": "9847e0b7",
   "metadata": {},
   "outputs": [],
   "source": [
    "from sklearn.feature_extraction.text import TfidfVectorizer"
   ]
  },
  {
   "cell_type": "code",
   "execution_count": 30,
   "id": "1a1b49ac",
   "metadata": {},
   "outputs": [],
   "source": [
    "# Feature Generation using TF-IDF\n",
    "\n",
    "tfidf = TfidfVectorizer(lowercase=True, stop_words='english', ngram_range = (1,1), tokenizer = token.tokenize)\n",
    "tfidf_dtm = tfidf.fit_transform(df['Phrase'])"
   ]
  },
  {
   "cell_type": "code",
   "execution_count": 31,
   "id": "9f820717",
   "metadata": {},
   "outputs": [
    {
     "data": {
      "text/plain": [
       "TfidfVectorizer(stop_words='english',\n",
       "                tokenizer=<bound method RegexpTokenizer.tokenize of RegexpTokenizer(pattern='[a-zA-Z]+', gaps=False, discard_empty=True, flags=re.UNICODE|re.MULTILINE|re.DOTALL)>)"
      ]
     },
     "execution_count": 31,
     "metadata": {},
     "output_type": "execute_result"
    }
   ],
   "source": [
    "tfidf"
   ]
  },
  {
   "cell_type": "code",
   "execution_count": 32,
   "id": "03055b5b",
   "metadata": {},
   "outputs": [],
   "source": [
    "# Split train and test set\n",
    "\n",
    "X_train, X_test, y_train, y_test = train_test_split(tfidf_dtm, df['Sentiment'], test_size=0.2, random_state=33)"
   ]
  },
  {
   "cell_type": "code",
   "execution_count": 33,
   "id": "ccc15f4f",
   "metadata": {},
   "outputs": [
    {
     "name": "stdout",
     "output_type": "stream",
     "text": [
      "TF-IDF with MNB Accuracy: 0.5921440471613482\n"
     ]
    }
   ],
   "source": [
    "# Generamos el modelo predictivo de 'sentiment' con Multinomial Naive Bayes\n",
    "tfidf_clf = MultinomialNB().fit(X_train, y_train)\n",
    "\n",
    "tfidf_y_pred= tfidf_clf.predict(X_test)\n",
    "print(\"TF-IDF with MNB Accuracy:\",metrics.accuracy_score(y_test, tfidf_y_pred))"
   ]
  }
 ],
 "metadata": {
  "kernelspec": {
   "display_name": "Python 3 (ipykernel)",
   "language": "python",
   "name": "python3"
  },
  "language_info": {
   "codemirror_mode": {
    "name": "ipython",
    "version": 3
   },
   "file_extension": ".py",
   "mimetype": "text/x-python",
   "name": "python",
   "nbconvert_exporter": "python",
   "pygments_lexer": "ipython3",
   "version": "3.8.10"
  }
 },
 "nbformat": 4,
 "nbformat_minor": 5
}
